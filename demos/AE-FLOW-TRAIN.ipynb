{
  "cells": [
    {
      "cell_type": "code",
      "execution_count": 1,
      "metadata": {
        "colab": {
          "base_uri": "https://localhost:8080/"
        },
        "id": "wdCMgpGKe--w",
        "outputId": "915834ea-78d4-4214-c9c0-9ca2612fb11a"
      },
      "outputs": [
        {
          "output_type": "stream",
          "name": "stdout",
          "text": [
            "Mounted at /content/gdrive\n"
          ]
        }
      ],
      "source": [
        "# if use colab to test the demo, please uncomment these lines\n",
        "from google.colab import drive\n",
        "\n",
        "drive.mount('/content/gdrive')"
      ]
    },
    {
      "cell_type": "code",
      "execution_count": 2,
      "metadata": {
        "colab": {
          "base_uri": "https://localhost:8080/"
        },
        "id": "1VTK2JIPfnqL",
        "outputId": "cd925222-66e8-4c2b-c855-b204cfa8a442"
      },
      "outputs": [
        {
          "output_type": "stream",
          "name": "stdout",
          "text": [
            "Cloning into 'AE-Flow'...\n",
            "remote: Enumerating objects: 308, done.\u001b[K\n",
            "remote: Counting objects: 100% (150/150), done.\u001b[K\n",
            "remote: Compressing objects: 100% (116/116), done.\u001b[K\n",
            "remote: Total 308 (delta 80), reused 87 (delta 30), pack-reused 158\u001b[K\n",
            "Receiving objects: 100% (308/308), 12.60 MiB | 19.06 MiB/s, done.\n",
            "Resolving deltas: 100% (161/161), done.\n"
          ]
        }
      ],
      "source": [
        "# copy \n",
        "!cp /content/gdrive/MyDrive/processed_chest_xray.zip ./\n",
        "!git clone https://github.com/Urukat/AE-Flow"
      ]
    },
    {
      "cell_type": "code",
      "execution_count": 3,
      "metadata": {
        "colab": {
          "base_uri": "https://localhost:8080/"
        },
        "id": "OQPwTbGDgTHp",
        "outputId": "3bd53b17-adc6-4ea0-f9d2-7f2c78497020"
      },
      "outputs": [
        {
          "output_type": "stream",
          "name": "stdout",
          "text": [
            "Archive:  /content/processed_chest_xray.zip\n",
            "  inflating: /content/AE-Flow/data/chest_xray/processed/test_NORMAL.pt  \n",
            "  inflating: /content/AE-Flow/data/chest_xray/processed/test_PNEUMONIA.pt  \n",
            "  inflating: /content/AE-Flow/data/chest_xray/processed/train_NORMAL.pt  \n",
            "  inflating: /content/AE-Flow/data/chest_xray/processed/train_PNEUMONIA.pt  \n",
            "  inflating: /content/AE-Flow/data/chest_xray/processed/val_NORMAL.pt  \n",
            "  inflating: /content/AE-Flow/data/chest_xray/processed/val_PNEUMONIA.pt  \n"
          ]
        }
      ],
      "source": [
        "!mkdir -p /content/AE-Flow/data/chest_xray/processed\n",
        "!unzip /content/processed_chest_xray.zip -d /content/AE-Flow/data/chest_xray/processed"
      ]
    },
    {
      "cell_type": "code",
      "execution_count": 4,
      "metadata": {
        "colab": {
          "base_uri": "https://localhost:8080/"
        },
        "id": "ycryNhp-hbmh",
        "outputId": "f3d28fac-e1bf-40e1-9840-b40bf7f00da1"
      },
      "outputs": [
        {
          "output_type": "stream",
          "name": "stdout",
          "text": [
            "/content/AE-Flow\n",
            "/content/AE-Flow\n"
          ]
        }
      ],
      "source": [
        "%cd AE-Flow \n",
        "!pwd"
      ]
    },
    {
      "cell_type": "code",
      "execution_count": 5,
      "metadata": {
        "colab": {
          "base_uri": "https://localhost:8080/"
        },
        "id": "RcXkswFtiBAL",
        "outputId": "282e53e1-e71f-4a6c-c733-0e4c6a4f7720"
      },
      "outputs": [
        {
          "output_type": "stream",
          "name": "stdout",
          "text": [
            "Looking in indexes: https://pypi.org/simple, https://us-python.pkg.dev/colab-wheels/public/simple/\n",
            "Collecting nflows\n",
            "  Downloading nflows-0.14.tar.gz (45 kB)\n",
            "\u001b[2K     \u001b[90m━━━━━━━━━━━━━━━━━━━━━━━━━━━━━━━━━━━━━━━━\u001b[0m \u001b[32m45.8/45.8 kB\u001b[0m \u001b[31m6.6 MB/s\u001b[0m eta \u001b[36m0:00:00\u001b[0m\n",
            "\u001b[?25h  Preparing metadata (setup.py) ... \u001b[?25l\u001b[?25hdone\n",
            "Collecting torchmetrics\n",
            "  Downloading torchmetrics-0.11.4-py3-none-any.whl (519 kB)\n",
            "\u001b[2K     \u001b[90m━━━━━━━━━━━━━━━━━━━━━━━━━━━━━━━━━━━━━━\u001b[0m \u001b[32m519.2/519.2 kB\u001b[0m \u001b[31m44.4 MB/s\u001b[0m eta \u001b[36m0:00:00\u001b[0m\n",
            "\u001b[?25hCollecting FrEIA\n",
            "  Downloading FrEIA-0.2.tar.gz (34 kB)\n",
            "  Preparing metadata (setup.py) ... \u001b[?25l\u001b[?25hdone\n",
            "Requirement already satisfied: matplotlib in /usr/local/lib/python3.10/dist-packages (from nflows) (3.7.1)\n",
            "Requirement already satisfied: numpy in /usr/local/lib/python3.10/dist-packages (from nflows) (1.22.4)\n",
            "Requirement already satisfied: tensorboard in /usr/local/lib/python3.10/dist-packages (from nflows) (2.12.2)\n",
            "Requirement already satisfied: torch in /usr/local/lib/python3.10/dist-packages (from nflows) (2.0.1+cu118)\n",
            "Requirement already satisfied: tqdm in /usr/local/lib/python3.10/dist-packages (from nflows) (4.65.0)\n",
            "Requirement already satisfied: packaging in /usr/local/lib/python3.10/dist-packages (from torchmetrics) (23.1)\n",
            "Requirement already satisfied: scipy>=1.5 in /usr/local/lib/python3.10/dist-packages (from FrEIA) (1.10.1)\n",
            "Requirement already satisfied: filelock in /usr/local/lib/python3.10/dist-packages (from torch->nflows) (3.12.0)\n",
            "Requirement already satisfied: typing-extensions in /usr/local/lib/python3.10/dist-packages (from torch->nflows) (4.5.0)\n",
            "Requirement already satisfied: sympy in /usr/local/lib/python3.10/dist-packages (from torch->nflows) (1.11.1)\n",
            "Requirement already satisfied: networkx in /usr/local/lib/python3.10/dist-packages (from torch->nflows) (3.1)\n",
            "Requirement already satisfied: jinja2 in /usr/local/lib/python3.10/dist-packages (from torch->nflows) (3.1.2)\n",
            "Requirement already satisfied: triton==2.0.0 in /usr/local/lib/python3.10/dist-packages (from torch->nflows) (2.0.0)\n",
            "Requirement already satisfied: cmake in /usr/local/lib/python3.10/dist-packages (from triton==2.0.0->torch->nflows) (3.25.2)\n",
            "Requirement already satisfied: lit in /usr/local/lib/python3.10/dist-packages (from triton==2.0.0->torch->nflows) (16.0.5)\n",
            "Requirement already satisfied: contourpy>=1.0.1 in /usr/local/lib/python3.10/dist-packages (from matplotlib->nflows) (1.0.7)\n",
            "Requirement already satisfied: cycler>=0.10 in /usr/local/lib/python3.10/dist-packages (from matplotlib->nflows) (0.11.0)\n",
            "Requirement already satisfied: fonttools>=4.22.0 in /usr/local/lib/python3.10/dist-packages (from matplotlib->nflows) (4.39.3)\n",
            "Requirement already satisfied: kiwisolver>=1.0.1 in /usr/local/lib/python3.10/dist-packages (from matplotlib->nflows) (1.4.4)\n",
            "Requirement already satisfied: pillow>=6.2.0 in /usr/local/lib/python3.10/dist-packages (from matplotlib->nflows) (8.4.0)\n",
            "Requirement already satisfied: pyparsing>=2.3.1 in /usr/local/lib/python3.10/dist-packages (from matplotlib->nflows) (3.0.9)\n",
            "Requirement already satisfied: python-dateutil>=2.7 in /usr/local/lib/python3.10/dist-packages (from matplotlib->nflows) (2.8.2)\n",
            "Requirement already satisfied: absl-py>=0.4 in /usr/local/lib/python3.10/dist-packages (from tensorboard->nflows) (1.4.0)\n",
            "Requirement already satisfied: grpcio>=1.48.2 in /usr/local/lib/python3.10/dist-packages (from tensorboard->nflows) (1.54.0)\n",
            "Requirement already satisfied: google-auth<3,>=1.6.3 in /usr/local/lib/python3.10/dist-packages (from tensorboard->nflows) (2.17.3)\n",
            "Requirement already satisfied: google-auth-oauthlib<1.1,>=0.5 in /usr/local/lib/python3.10/dist-packages (from tensorboard->nflows) (1.0.0)\n",
            "Requirement already satisfied: markdown>=2.6.8 in /usr/local/lib/python3.10/dist-packages (from tensorboard->nflows) (3.4.3)\n",
            "Requirement already satisfied: protobuf>=3.19.6 in /usr/local/lib/python3.10/dist-packages (from tensorboard->nflows) (3.20.3)\n",
            "Requirement already satisfied: requests<3,>=2.21.0 in /usr/local/lib/python3.10/dist-packages (from tensorboard->nflows) (2.27.1)\n",
            "Requirement already satisfied: setuptools>=41.0.0 in /usr/local/lib/python3.10/dist-packages (from tensorboard->nflows) (67.7.2)\n",
            "Requirement already satisfied: tensorboard-data-server<0.8.0,>=0.7.0 in /usr/local/lib/python3.10/dist-packages (from tensorboard->nflows) (0.7.0)\n",
            "Requirement already satisfied: tensorboard-plugin-wit>=1.6.0 in /usr/local/lib/python3.10/dist-packages (from tensorboard->nflows) (1.8.1)\n",
            "Requirement already satisfied: werkzeug>=1.0.1 in /usr/local/lib/python3.10/dist-packages (from tensorboard->nflows) (2.3.0)\n",
            "Requirement already satisfied: wheel>=0.26 in /usr/local/lib/python3.10/dist-packages (from tensorboard->nflows) (0.40.0)\n",
            "Requirement already satisfied: cachetools<6.0,>=2.0.0 in /usr/local/lib/python3.10/dist-packages (from google-auth<3,>=1.6.3->tensorboard->nflows) (5.3.0)\n",
            "Requirement already satisfied: pyasn1-modules>=0.2.1 in /usr/local/lib/python3.10/dist-packages (from google-auth<3,>=1.6.3->tensorboard->nflows) (0.3.0)\n",
            "Requirement already satisfied: six>=1.9.0 in /usr/local/lib/python3.10/dist-packages (from google-auth<3,>=1.6.3->tensorboard->nflows) (1.16.0)\n",
            "Requirement already satisfied: rsa<5,>=3.1.4 in /usr/local/lib/python3.10/dist-packages (from google-auth<3,>=1.6.3->tensorboard->nflows) (4.9)\n",
            "Requirement already satisfied: requests-oauthlib>=0.7.0 in /usr/local/lib/python3.10/dist-packages (from google-auth-oauthlib<1.1,>=0.5->tensorboard->nflows) (1.3.1)\n",
            "Requirement already satisfied: urllib3<1.27,>=1.21.1 in /usr/local/lib/python3.10/dist-packages (from requests<3,>=2.21.0->tensorboard->nflows) (1.26.15)\n",
            "Requirement already satisfied: certifi>=2017.4.17 in /usr/local/lib/python3.10/dist-packages (from requests<3,>=2.21.0->tensorboard->nflows) (2022.12.7)\n",
            "Requirement already satisfied: charset-normalizer~=2.0.0 in /usr/local/lib/python3.10/dist-packages (from requests<3,>=2.21.0->tensorboard->nflows) (2.0.12)\n",
            "Requirement already satisfied: idna<4,>=2.5 in /usr/local/lib/python3.10/dist-packages (from requests<3,>=2.21.0->tensorboard->nflows) (3.4)\n",
            "Requirement already satisfied: MarkupSafe>=2.1.1 in /usr/local/lib/python3.10/dist-packages (from werkzeug>=1.0.1->tensorboard->nflows) (2.1.2)\n",
            "Requirement already satisfied: mpmath>=0.19 in /usr/local/lib/python3.10/dist-packages (from sympy->torch->nflows) (1.3.0)\n",
            "Requirement already satisfied: pyasn1<0.6.0,>=0.4.6 in /usr/local/lib/python3.10/dist-packages (from pyasn1-modules>=0.2.1->google-auth<3,>=1.6.3->tensorboard->nflows) (0.5.0)\n",
            "Requirement already satisfied: oauthlib>=3.0.0 in /usr/local/lib/python3.10/dist-packages (from requests-oauthlib>=0.7.0->google-auth-oauthlib<1.1,>=0.5->tensorboard->nflows) (3.2.2)\n",
            "Building wheels for collected packages: nflows, FrEIA\n",
            "  Building wheel for nflows (setup.py) ... \u001b[?25l\u001b[?25hdone\n",
            "  Created wheel for nflows: filename=nflows-0.14-py3-none-any.whl size=53653 sha256=afc19bd05a233ff6dd72267bb21cc4bd31493dcb00ae94dbf1d3cfb21ae345d2\n",
            "  Stored in directory: /root/.cache/pip/wheels/ca/8f/ac/c324eb57b461632081812c33b13161878290d0e6fbb8f5a7e2\n",
            "  Building wheel for FrEIA (setup.py) ... \u001b[?25l\u001b[?25hdone\n",
            "  Created wheel for FrEIA: filename=FrEIA-0.2-py3-none-any.whl size=42763 sha256=5a6b99b86447793eff199d2a048c7afd55640ed979a2084ce034e0d7203b8514\n",
            "  Stored in directory: /root/.cache/pip/wheels/81/a8/e2/d532a76f72108ac4a340cbe3f86b4f591abfdbd75209a5badb\n",
            "Successfully built nflows FrEIA\n",
            "Installing collected packages: torchmetrics, nflows, FrEIA\n",
            "Successfully installed FrEIA-0.2 nflows-0.14 torchmetrics-0.11.4\n"
          ]
        }
      ],
      "source": [
        "!pip install nflows torchmetrics FrEIA"
      ]
    },
    {
      "cell_type": "code",
      "execution_count": 6,
      "metadata": {
        "colab": {
          "base_uri": "https://localhost:8080/"
        },
        "id": "MCY8X1sWmQFq",
        "outputId": "b9be9ee3-d6e8-48c5-e81a-72395f961ea7"
      },
      "outputs": [
        {
          "output_type": "stream",
          "name": "stdout",
          "text": [
            "Fri May 26 12:13:37 2023       \n",
            "+-----------------------------------------------------------------------------+\n",
            "| NVIDIA-SMI 525.85.12    Driver Version: 525.85.12    CUDA Version: 12.0     |\n",
            "|-------------------------------+----------------------+----------------------+\n",
            "| GPU  Name        Persistence-M| Bus-Id        Disp.A | Volatile Uncorr. ECC |\n",
            "| Fan  Temp  Perf  Pwr:Usage/Cap|         Memory-Usage | GPU-Util  Compute M. |\n",
            "|                               |                      |               MIG M. |\n",
            "|===============================+======================+======================|\n",
            "|   0  NVIDIA A100-SXM...  Off  | 00000000:00:04.0 Off |                    0 |\n",
            "| N/A   33C    P0    45W / 400W |      0MiB / 40960MiB |      0%      Default |\n",
            "|                               |                      |             Disabled |\n",
            "+-------------------------------+----------------------+----------------------+\n",
            "                                                                               \n",
            "+-----------------------------------------------------------------------------+\n",
            "| Processes:                                                                  |\n",
            "|  GPU   GI   CI        PID   Type   Process name                  GPU Memory |\n",
            "|        ID   ID                                                   Usage      |\n",
            "|=============================================================================|\n",
            "|  No running processes found                                                 |\n",
            "+-----------------------------------------------------------------------------+\n"
          ]
        }
      ],
      "source": [
        "!nvidia-smi"
      ]
    },
    {
      "cell_type": "code",
      "execution_count": 7,
      "metadata": {
        "colab": {
          "base_uri": "https://localhost:8080/"
        },
        "id": "pDa12RiJhpbh",
        "outputId": "11292500-c185-4ce8-dcdf-661f4aeb4e53"
      },
      "outputs": [
        {
          "output_type": "stream",
          "name": "stdout",
          "text": [
            "Downloading: \"https://download.pytorch.org/models/wide_resnet50_2-9ba9bcbe.pth\" to /root/.cache/torch/hub/checkpoints/wide_resnet50_2-9ba9bcbe.pth\n",
            "100% 263M/263M [00:50<00:00, 5.45MB/s]\n",
            "1341\n",
            "0it [00:00, ?it/s]tensor(0.2749, device='cuda:0', grad_fn=<MseLossBackward0>)\n",
            "tensor(2.2665, device='cuda:0', grad_fn=<NegBackward0>)\n",
            "tensor(1.2707, device='cuda:0', grad_fn=<AddBackward0>)\n",
            "84it [00:10,  7.66it/s]\n",
            "Train: epoch 0, anomaly_score : 106.60249328613281 train loss = 67.04553377628326\n",
            "0it [00:00, ?it/s]tensor(0.0532, device='cuda:0', grad_fn=<MseLossBackward0>)\n",
            "tensor(1.0470, device='cuda:0', grad_fn=<NegBackward0>)\n",
            "tensor(0.5501, device='cuda:0', grad_fn=<AddBackward0>)\n",
            "84it [00:03, 25.26it/s]\n",
            "Train: epoch 1, anomaly_score : 107.32650756835938 train loss = 34.18905130028725\n",
            "0it [00:00, ?it/s]tensor(0.0410, device='cuda:0', grad_fn=<MseLossBackward0>)\n",
            "tensor(0.5532, device='cuda:0', grad_fn=<NegBackward0>)\n",
            "tensor(0.2971, device='cuda:0', grad_fn=<AddBackward0>)\n",
            "84it [00:03, 25.23it/s]\n",
            "Train: epoch 2, anomaly_score : 106.83077239990234 train loss = 20.370017647743225\n",
            "0it [00:00, ?it/s]tensor(0.0349, device='cuda:0', grad_fn=<MseLossBackward0>)\n",
            "tensor(0.2934, device='cuda:0', grad_fn=<NegBackward0>)\n",
            "tensor(0.1642, device='cuda:0', grad_fn=<AddBackward0>)\n",
            "84it [00:03, 25.15it/s]\n",
            "Train: epoch 3, anomaly_score : 106.50254821777344 train loss = 12.947841003537178\n",
            "0it [00:00, ?it/s]tensor(0.0355, device='cuda:0', grad_fn=<MseLossBackward0>)\n",
            "tensor(0.2075, device='cuda:0', grad_fn=<NegBackward0>)\n",
            "tensor(0.1215, device='cuda:0', grad_fn=<AddBackward0>)\n",
            "84it [00:03, 25.65it/s]\n",
            "Train: epoch 4, anomaly_score : 106.33197021484375 train loss = 7.369568169116974\n",
            "0it [00:00, ?it/s]tensor(0.0330, device='cuda:0', grad_fn=<MseLossBackward0>)\n",
            "tensor(0.1268, device='cuda:0', grad_fn=<NegBackward0>)\n",
            "tensor(0.0799, device='cuda:0', grad_fn=<AddBackward0>)\n",
            "84it [00:03, 25.28it/s]\n",
            "Train: epoch 5, anomaly_score : 106.19841003417969 train loss = 3.1550672966986895\n",
            "0it [00:00, ?it/s]tensor(0.0319, device='cuda:0', grad_fn=<MseLossBackward0>)\n",
            "tensor(-0.0269, device='cuda:0', grad_fn=<NegBackward0>)\n",
            "tensor(0.0025, device='cuda:0', grad_fn=<AddBackward0>)\n",
            "84it [00:03, 25.19it/s]\n",
            "Train: epoch 6, anomaly_score : 106.11019134521484 train loss = -0.2845861595124006\n",
            "0it [00:00, ?it/s]tensor(0.0329, device='cuda:0', grad_fn=<MseLossBackward0>)\n",
            "tensor(-0.0705, device='cuda:0', grad_fn=<NegBackward0>)\n",
            "tensor(-0.0188, device='cuda:0', grad_fn=<AddBackward0>)\n",
            "84it [00:03, 25.37it/s]\n",
            "Train: epoch 7, anomaly_score : 105.94750213623047 train loss = -2.9076395677402616\n",
            "0it [00:00, ?it/s]tensor(0.0284, device='cuda:0', grad_fn=<MseLossBackward0>)\n",
            "tensor(-0.1419, device='cuda:0', grad_fn=<NegBackward0>)\n",
            "tensor(-0.0567, device='cuda:0', grad_fn=<AddBackward0>)\n",
            "84it [00:03, 25.26it/s]\n",
            "Train: epoch 8, anomaly_score : 105.89769744873047 train loss = -5.448121380992234\n",
            "0it [00:00, ?it/s]tensor(0.0278, device='cuda:0', grad_fn=<MseLossBackward0>)\n",
            "tensor(-0.2203, device='cuda:0', grad_fn=<NegBackward0>)\n",
            "tensor(-0.0963, device='cuda:0', grad_fn=<AddBackward0>)\n",
            "84it [00:03, 25.59it/s]\n",
            "Train: epoch 9, anomaly_score : 105.81907653808594 train loss = -7.436257861554623\n",
            "0it [00:00, ?it/s]tensor(0.0268, device='cuda:0', grad_fn=<MseLossBackward0>)\n",
            "tensor(-0.2599, device='cuda:0', grad_fn=<NegBackward0>)\n",
            "tensor(-0.1165, device='cuda:0', grad_fn=<AddBackward0>)\n",
            "84it [00:03, 25.42it/s]\n",
            "Train: epoch 10, anomaly_score : 105.72216796875 train loss = -9.478916522115469\n",
            "0it [00:00, ?it/s]tensor(0.0296, device='cuda:0', grad_fn=<MseLossBackward0>)\n",
            "tensor(-0.2830, device='cuda:0', grad_fn=<NegBackward0>)\n",
            "tensor(-0.1267, device='cuda:0', grad_fn=<AddBackward0>)\n",
            "84it [00:03, 25.20it/s]\n",
            "Train: epoch 11, anomaly_score : 105.68507385253906 train loss = -11.24000796675682\n",
            "0it [00:00, ?it/s]tensor(0.0274, device='cuda:0', grad_fn=<MseLossBackward0>)\n",
            "tensor(-0.3025, device='cuda:0', grad_fn=<NegBackward0>)\n",
            "tensor(-0.1376, device='cuda:0', grad_fn=<AddBackward0>)\n",
            "84it [00:03, 25.40it/s]\n",
            "Train: epoch 12, anomaly_score : 105.64816284179688 train loss = -12.810191489756107\n",
            "0it [00:00, ?it/s]tensor(0.0334, device='cuda:0', grad_fn=<MseLossBackward0>)\n",
            "tensor(-0.3801, device='cuda:0', grad_fn=<NegBackward0>)\n",
            "tensor(-0.1734, device='cuda:0', grad_fn=<AddBackward0>)\n",
            "84it [00:03, 25.42it/s]\n",
            "Train: epoch 13, anomaly_score : 105.58656311035156 train loss = -14.116676598787308\n",
            "0it [00:00, ?it/s]tensor(0.0260, device='cuda:0', grad_fn=<MseLossBackward0>)\n",
            "tensor(-0.4354, device='cuda:0', grad_fn=<NegBackward0>)\n",
            "tensor(-0.2047, device='cuda:0', grad_fn=<AddBackward0>)\n",
            "84it [00:03, 25.04it/s]\n",
            "Train: epoch 14, anomaly_score : 105.56277465820312 train loss = -15.921442478895187\n",
            "0it [00:00, ?it/s]tensor(0.0295, device='cuda:0', grad_fn=<MseLossBackward0>)\n",
            "tensor(-0.4494, device='cuda:0', grad_fn=<NegBackward0>)\n",
            "tensor(-0.2100, device='cuda:0', grad_fn=<AddBackward0>)\n",
            "84it [00:03, 25.43it/s]\n",
            "Train: epoch 15, anomaly_score : 105.50227355957031 train loss = -16.86630231142044\n",
            "0it [00:00, ?it/s]tensor(0.0336, device='cuda:0', grad_fn=<MseLossBackward0>)\n",
            "tensor(-0.4853, device='cuda:0', grad_fn=<NegBackward0>)\n",
            "tensor(-0.2259, device='cuda:0', grad_fn=<AddBackward0>)\n",
            "84it [00:03, 25.17it/s]\n",
            "Train: epoch 16, anomaly_score : 105.481201171875 train loss = -18.328235507011414\n",
            "0it [00:00, ?it/s]tensor(0.0301, device='cuda:0', grad_fn=<MseLossBackward0>)\n",
            "tensor(-0.5056, device='cuda:0', grad_fn=<NegBackward0>)\n",
            "tensor(-0.2378, device='cuda:0', grad_fn=<AddBackward0>)\n",
            "84it [00:03, 25.37it/s]\n",
            "Train: epoch 17, anomaly_score : 105.38284301757812 train loss = -19.33242280781269\n",
            "0it [00:00, ?it/s]tensor(0.0274, device='cuda:0', grad_fn=<MseLossBackward0>)\n",
            "tensor(-0.5378, device='cuda:0', grad_fn=<NegBackward0>)\n",
            "tensor(-0.2552, device='cuda:0', grad_fn=<AddBackward0>)\n",
            "84it [00:03, 25.10it/s]\n",
            "Train: epoch 18, anomaly_score : 105.35012817382812 train loss = -20.22390092909336\n",
            "0it [00:00, ?it/s]tensor(0.0307, device='cuda:0', grad_fn=<MseLossBackward0>)\n",
            "tensor(-0.5043, device='cuda:0', grad_fn=<NegBackward0>)\n",
            "tensor(-0.2368, device='cuda:0', grad_fn=<AddBackward0>)\n",
            "84it [00:03, 25.26it/s]\n",
            "Train: epoch 19, anomaly_score : 105.31895446777344 train loss = -21.43576981127262\n"
          ]
        }
      ],
      "source": [
        "!python ./src/train.py --subnet conv_type"
      ]
    },
    {
      "cell_type": "code",
      "execution_count": 8,
      "metadata": {
        "colab": {
          "base_uri": "https://localhost:8080/"
        },
        "id": "pYxji4YR6Hxz",
        "outputId": "3a61bfe5-e4d6-4d39-85c5-366548aaa607"
      },
      "outputs": [
        {
          "output_type": "stream",
          "name": "stdout",
          "text": [
            "1341\n",
            "0it [00:00, ?it/s]tensor(0.3109, device='cuda:0', grad_fn=<MseLossBackward0>)\n",
            "tensor(877.5143, device='cuda:0', grad_fn=<NegBackward0>)\n",
            "tensor(438.9126, device='cuda:0', grad_fn=<AddBackward0>)\n",
            "84it [00:06, 13.40it/s]\n",
            "Train: epoch 0, anomaly_score : 5335.49267578125 train loss = 4271.354275584221\n",
            "0it [00:00, ?it/s]tensor(0.0494, device='cuda:0', grad_fn=<MseLossBackward0>)\n",
            "tensor(5.4842, device='cuda:0', grad_fn=<NegBackward0>)\n",
            "tensor(2.7668, device='cuda:0', grad_fn=<AddBackward0>)\n",
            "84it [00:03, 21.56it/s]\n",
            "Train: epoch 1, anomaly_score : 1612.634033203125 train loss = 1288.1657972335815\n",
            "0it [00:00, ?it/s]tensor(0.0368, device='cuda:0', grad_fn=<MseLossBackward0>)\n",
            "tensor(20.1891, device='cuda:0', grad_fn=<NegBackward0>)\n",
            "tensor(10.1129, device='cuda:0', grad_fn=<AddBackward0>)\n",
            "84it [00:03, 21.56it/s]\n",
            "Train: epoch 2, anomaly_score : 258.8268737792969 train loss = 202.74442946910858\n",
            "0it [00:00, ?it/s]tensor(0.0400, device='cuda:0', grad_fn=<MseLossBackward0>)\n",
            "tensor(3.5923, device='cuda:0', grad_fn=<NegBackward0>)\n",
            "tensor(1.8161, device='cuda:0', grad_fn=<AddBackward0>)\n",
            "84it [00:03, 21.54it/s]\n",
            "Train: epoch 3, anomaly_score : 240.71124267578125 train loss = 187.20444071292877\n",
            "0it [00:00, ?it/s]tensor(0.0376, device='cuda:0', grad_fn=<MseLossBackward0>)\n",
            "tensor(2.9562, device='cuda:0', grad_fn=<NegBackward0>)\n",
            "tensor(1.4969, device='cuda:0', grad_fn=<AddBackward0>)\n",
            "84it [00:03, 21.58it/s]\n",
            "Train: epoch 4, anomaly_score : 189.2119140625 train loss = 144.78006398677826\n",
            "0it [00:00, ?it/s]tensor(0.0320, device='cuda:0', grad_fn=<MseLossBackward0>)\n",
            "tensor(2.9115, device='cuda:0', grad_fn=<NegBackward0>)\n",
            "tensor(1.4717, device='cuda:0', grad_fn=<AddBackward0>)\n",
            "84it [00:03, 21.53it/s]\n",
            "Train: epoch 5, anomaly_score : 172.14462280273438 train loss = 130.29595053195953\n",
            "0it [00:00, ?it/s]tensor(0.0269, device='cuda:0', grad_fn=<MseLossBackward0>)\n",
            "tensor(2.5503, device='cuda:0', grad_fn=<NegBackward0>)\n",
            "tensor(1.2886, device='cuda:0', grad_fn=<AddBackward0>)\n",
            "84it [00:03, 21.60it/s]\n",
            "Train: epoch 6, anomaly_score : 210.48501586914062 train loss = 160.11466109752655\n",
            "0it [00:00, ?it/s]tensor(0.0287, device='cuda:0', grad_fn=<MseLossBackward0>)\n",
            "tensor(2.7990, device='cuda:0', grad_fn=<NegBackward0>)\n",
            "tensor(1.4139, device='cuda:0', grad_fn=<AddBackward0>)\n",
            "84it [00:03, 21.56it/s]\n",
            "Train: epoch 7, anomaly_score : 147.12469482421875 train loss = 108.45354008674622\n",
            "0it [00:00, ?it/s]tensor(0.0307, device='cuda:0', grad_fn=<MseLossBackward0>)\n",
            "tensor(2.2779, device='cuda:0', grad_fn=<NegBackward0>)\n",
            "tensor(1.1543, device='cuda:0', grad_fn=<AddBackward0>)\n",
            "84it [00:03, 21.56it/s]\n",
            "Train: epoch 8, anomaly_score : 147.76979064941406 train loss = 108.05578172206879\n",
            "0it [00:00, ?it/s]tensor(0.0251, device='cuda:0', grad_fn=<MseLossBackward0>)\n",
            "tensor(2.2182, device='cuda:0', grad_fn=<NegBackward0>)\n",
            "tensor(1.1216, device='cuda:0', grad_fn=<AddBackward0>)\n",
            "84it [00:03, 21.59it/s]\n",
            "Train: epoch 9, anomaly_score : 148.918701171875 train loss = 108.37665641307831\n",
            "0it [00:00, ?it/s]tensor(0.0256, device='cuda:0', grad_fn=<MseLossBackward0>)\n",
            "tensor(11.1678, device='cuda:0', grad_fn=<NegBackward0>)\n",
            "tensor(5.5967, device='cuda:0', grad_fn=<AddBackward0>)\n",
            "84it [00:03, 21.50it/s]\n",
            "Train: epoch 10, anomaly_score : 139.14175415039062 train loss = 99.73302590847015\n",
            "0it [00:00, ?it/s]tensor(0.0243, device='cuda:0', grad_fn=<MseLossBackward0>)\n",
            "tensor(2.0477, device='cuda:0', grad_fn=<NegBackward0>)\n",
            "tensor(1.0360, device='cuda:0', grad_fn=<AddBackward0>)\n",
            "84it [00:03, 21.52it/s]\n",
            "Train: epoch 11, anomaly_score : 130.396728515625 train loss = 91.84696412086487\n",
            "0it [00:00, ?it/s]tensor(0.0242, device='cuda:0', grad_fn=<MseLossBackward0>)\n",
            "tensor(2.2691, device='cuda:0', grad_fn=<NegBackward0>)\n",
            "tensor(1.1467, device='cuda:0', grad_fn=<AddBackward0>)\n",
            "84it [00:03, 21.52it/s]\n",
            "Train: epoch 12, anomaly_score : 129.59832763671875 train loss = 90.52263569831848\n",
            "0it [00:00, ?it/s]tensor(0.0241, device='cuda:0', grad_fn=<MseLossBackward0>)\n",
            "tensor(1.9269, device='cuda:0', grad_fn=<NegBackward0>)\n",
            "tensor(0.9755, device='cuda:0', grad_fn=<AddBackward0>)\n",
            "84it [00:03, 21.53it/s]\n",
            "Train: epoch 13, anomaly_score : 123.88998413085938 train loss = 85.10796546936035\n",
            "0it [00:00, ?it/s]tensor(0.0226, device='cuda:0', grad_fn=<MseLossBackward0>)\n",
            "tensor(1.9410, device='cuda:0', grad_fn=<NegBackward0>)\n",
            "tensor(0.9818, device='cuda:0', grad_fn=<AddBackward0>)\n",
            "84it [00:03, 21.51it/s]\n",
            "Train: epoch 14, anomaly_score : 125.41594696044922 train loss = 85.6430413722992\n",
            "0it [00:00, ?it/s]tensor(0.0216, device='cuda:0', grad_fn=<MseLossBackward0>)\n",
            "tensor(1.8072, device='cuda:0', grad_fn=<NegBackward0>)\n",
            "tensor(0.9144, device='cuda:0', grad_fn=<AddBackward0>)\n",
            "84it [00:03, 21.52it/s]\n",
            "Train: epoch 15, anomaly_score : 119.75463104248047 train loss = 80.42431038618088\n",
            "0it [00:00, ?it/s]tensor(0.0214, device='cuda:0', grad_fn=<MseLossBackward0>)\n",
            "tensor(1.8464, device='cuda:0', grad_fn=<NegBackward0>)\n",
            "tensor(0.9339, device='cuda:0', grad_fn=<AddBackward0>)\n",
            "84it [00:03, 21.54it/s]\n",
            "Train: epoch 16, anomaly_score : 120.6877212524414 train loss = 80.491215467453\n",
            "0it [00:00, ?it/s]tensor(0.0230, device='cuda:0', grad_fn=<MseLossBackward0>)\n",
            "tensor(1.8521, device='cuda:0', grad_fn=<NegBackward0>)\n",
            "tensor(0.9375, device='cuda:0', grad_fn=<AddBackward0>)\n",
            "84it [00:03, 21.58it/s]\n",
            "Train: epoch 17, anomaly_score : 119.33903503417969 train loss = 78.75034993886948\n",
            "0it [00:00, ?it/s]tensor(0.0207, device='cuda:0', grad_fn=<MseLossBackward0>)\n",
            "tensor(1.8364, device='cuda:0', grad_fn=<NegBackward0>)\n",
            "tensor(0.9286, device='cuda:0', grad_fn=<AddBackward0>)\n",
            "84it [00:03, 21.56it/s]\n",
            "Train: epoch 18, anomaly_score : 114.83699798583984 train loss = 74.31982338428497\n",
            "0it [00:00, ?it/s]tensor(0.0210, device='cuda:0', grad_fn=<MseLossBackward0>)\n",
            "tensor(1.7041, device='cuda:0', grad_fn=<NegBackward0>)\n",
            "tensor(0.8626, device='cuda:0', grad_fn=<AddBackward0>)\n",
            "84it [00:03, 21.59it/s]\n",
            "Train: epoch 19, anomaly_score : 116.43505859375 train loss = 75.01766836643219\n"
          ]
        }
      ],
      "source": [
        "!python ./src/train.py --subnet resnet_type"
      ]
    }
  ],
  "metadata": {
    "accelerator": "GPU",
    "colab": {
      "provenance": [],
      "gpuType": "A100"
    },
    "gpuClass": "standard",
    "kernelspec": {
      "display_name": "Python 3",
      "name": "python3"
    },
    "language_info": {
      "name": "python"
    }
  },
  "nbformat": 4,
  "nbformat_minor": 0
}